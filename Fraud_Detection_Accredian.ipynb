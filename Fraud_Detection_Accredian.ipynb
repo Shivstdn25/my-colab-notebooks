{
  "cells": [
    {
      "cell_type": "markdown",
      "metadata": {
        "id": "view-in-github",
        "colab_type": "text"
      },
      "source": [
        "<a href=\"https://colab.research.google.com/github/Shivstdn25/my-colab-notebooks/blob/main/Fraud_Detection_Accredian.ipynb\" target=\"_parent\"><img src=\"https://colab.research.google.com/assets/colab-badge.svg\" alt=\"Open In Colab\"/></a>"
      ]
    },
    {
      "cell_type": "markdown",
      "id": "aa2cb5d9",
      "metadata": {
        "id": "aa2cb5d9"
      },
      "source": [
        "\n",
        "# 🧪 Fraud Detection — End‑to‑End Notebook (Accredian Case)\n",
        "\n",
        "This notebook is a **step‑by‑step template** to build a fraud detection model on the provided CSV (≈ 6.36M rows, 10 columns).  \n",
        "It covers: loading data, cleaning, feature engineering, modeling, evaluation, and actionable insights.\n",
        "\n",
        "> **How to use this notebook (quick start):**\n",
        "> 1. Put your CSV file path into `CSV_PATH` in the next cell.\n",
        "> 2. Run cells from top to bottom (Shift+Enter in Jupyter).\n",
        "> 3. If you face RAM limits, switch `USE_CHUNKS=True` to use chunked reading + sampling.\n",
        "> 4. Follow each section's TODOs and commentary.\n",
        ">\n",
        "> **Outputs you'll get:**\n",
        "> - Cleaned, feature‑engineered dataset (optionally saved as parquet/csv).\n",
        "> - Baseline + advanced ML models with **ROC-AUC**, **PR‑AUC**, **F1**, **confusion matrix**.\n",
        "> - Threshold tuning for business needs (e.g., high precision or high recall).\n",
        "> - Top predictive factors (permutation importance), and action plan.\n",
        "> - Saved model artifacts (`.joblib`) ready for deployment.\n"
      ]
    },
    {
      "cell_type": "markdown",
      "id": "cadef370",
      "metadata": {
        "id": "cadef370"
      },
      "source": [
        "\n",
        "## 📖 Data Dictionary (from case brief)\n",
        "- **step** — hour index (1 step = 1 hour), 744 total (30 days).\n",
        "- **type** — one of `CASH-IN`, `CASH-OUT`, `DEBIT`, `PAYMENT`, `TRANSFER`.\n",
        "- **amount** — transaction amount (local currency).\n",
        "- **nameOrig** — originator customer ID.\n",
        "- **oldbalanceOrg** — originator balance before transaction.\n",
        "- **newbalanceOrig** — originator balance after transaction.\n",
        "- **nameDest** — destination customer ID.\n",
        "- **oldbalanceDest** — destination balance before transaction. For merchant accounts (IDs starting with `M`), this may be missing.\n",
        "- **newbalanceDest** — destination balance after transaction. For merchant accounts (`M*`), may be missing.\n",
        "- **isFraud** — target label (1 = fraudulent transaction).\n",
        "- **isFlaggedFraud** — business rule flag (transfer > 200,000).\n",
        "\n",
        "> Note: In this simulation, fraudsters **TRANSFER** funds then **CASH-OUT**.\n"
      ]
    },
    {
      "cell_type": "code",
      "execution_count": 6,
      "id": "a037536e",
      "metadata": {
        "colab": {
          "base_uri": "https://localhost:8080/"
        },
        "id": "a037536e",
        "outputId": "f64718bc-0f52-4e2a-9708-d887e90eed56"
      },
      "outputs": [
        {
          "output_type": "stream",
          "name": "stdout",
          "text": [
            "✅ Imports OK\n"
          ]
        }
      ],
      "source": [
        "# ============= 1) SETUP =============\n",
        "# Adjust the path to your CSV here:\n",
        "CSV_PATH = \"/content/sample_data/Fraud.csv\"\n",
        "# Memory & runtime options\n",
        "USE_CHUNKS = False   # Set True if you hit RAM issues\n",
        "CHUNKSIZE  = 500_000 # rows per chunk when USE_CHUNKS=True\n",
        "SAMPLE_FRAC = 0.25   # fraction of data to keep from chunks for EDA/modeling if needed\n",
        "\n",
        "# Optional: where to save processed data & models\n",
        "OUT_DIR = \"/mnt/data/fraud_outputs\"\n",
        "MODEL_NAME = \"fraud_model_pipeline.joblib\"\n",
        "\n",
        "from pathlib import Path\n",
        "Path(OUT_DIR).mkdir(parents=True, exist_ok=True)\n",
        "\n",
        "import os, sys, math, json, warnings\n",
        "warnings.filterwarnings(\"ignore\")\n",
        "\n",
        "import numpy as np\n",
        "import pandas as pd\n",
        "\n",
        "# Visualization\n",
        "import matplotlib.pyplot as plt\n",
        "\n",
        "# Sklearn utilities\n",
        "from sklearn.model_selection import train_test_split\n",
        "from sklearn.compose import ColumnTransformer\n",
        "from sklearn.preprocessing import OneHotEncoder, StandardScaler\n",
        "from sklearn.pipeline import Pipeline\n",
        "from sklearn.metrics import roc_auc_score, average_precision_score, classification_report, confusion_matrix\n",
        "from sklearn.metrics import precision_recall_curve, roc_curve\n",
        "from sklearn.linear_model import LogisticRegression\n",
        "from sklearn.ensemble import RandomForestClassifier\n",
        "from sklearn.inspection import permutation_importance\n",
        "from sklearn.utils import class_weight\n",
        "\n",
        "import joblib\n",
        "\n",
        "print(\"✅ Imports OK\")"
      ]
    },
    {
      "cell_type": "markdown",
      "id": "50850442",
      "metadata": {
        "id": "50850442"
      },
      "source": [
        "\n",
        "## 2) Load Data (efficiently)\n",
        "- Uses memory‑savvy dtypes for the 10 columns.\n",
        "- If RAM is limited, **enable `USE_CHUNKS=True`** to sample & concatenate from chunks.\n"
      ]
    },
    {
      "cell_type": "code",
      "execution_count": 7,
      "id": "54a22fe0",
      "metadata": {
        "colab": {
          "base_uri": "https://localhost:8080/",
          "height": 244
        },
        "id": "54a22fe0",
        "outputId": "a6dc37fa-4a1a-4128-a435-b466e207cc77"
      },
      "outputs": [
        {
          "output_type": "stream",
          "name": "stdout",
          "text": [
            "(6362620, 11)\n"
          ]
        },
        {
          "output_type": "execute_result",
          "data": {
            "text/plain": [
              "   step      type        amount     nameOrig  oldbalanceOrg  newbalanceOrig  \\\n",
              "0     1   PAYMENT   9839.639648  C1231006815       170136.0   160296.359375   \n",
              "1     1   PAYMENT   1864.280029  C1666544295        21249.0    19384.720703   \n",
              "2     1  TRANSFER    181.000000  C1305486145          181.0        0.000000   \n",
              "3     1  CASH_OUT    181.000000   C840083671          181.0        0.000000   \n",
              "4     1   PAYMENT  11668.139648  C2048537720        41554.0    29885.859375   \n",
              "\n",
              "      nameDest  oldbalanceDest  newbalanceDest  isFraud  isFlaggedFraud  \n",
              "0  M1979787155             0.0             0.0        0               0  \n",
              "1  M2044282225             0.0             0.0        0               0  \n",
              "2   C553264065             0.0             0.0        1               0  \n",
              "3    C38997010         21182.0             0.0        1               0  \n",
              "4  M1230701703             0.0             0.0        0               0  "
            ],
            "text/html": [
              "\n",
              "  <div id=\"df-55b16106-90d1-4fbe-bdc5-303b4e98fb6f\" class=\"colab-df-container\">\n",
              "    <div>\n",
              "<style scoped>\n",
              "    .dataframe tbody tr th:only-of-type {\n",
              "        vertical-align: middle;\n",
              "    }\n",
              "\n",
              "    .dataframe tbody tr th {\n",
              "        vertical-align: top;\n",
              "    }\n",
              "\n",
              "    .dataframe thead th {\n",
              "        text-align: right;\n",
              "    }\n",
              "</style>\n",
              "<table border=\"1\" class=\"dataframe\">\n",
              "  <thead>\n",
              "    <tr style=\"text-align: right;\">\n",
              "      <th></th>\n",
              "      <th>step</th>\n",
              "      <th>type</th>\n",
              "      <th>amount</th>\n",
              "      <th>nameOrig</th>\n",
              "      <th>oldbalanceOrg</th>\n",
              "      <th>newbalanceOrig</th>\n",
              "      <th>nameDest</th>\n",
              "      <th>oldbalanceDest</th>\n",
              "      <th>newbalanceDest</th>\n",
              "      <th>isFraud</th>\n",
              "      <th>isFlaggedFraud</th>\n",
              "    </tr>\n",
              "  </thead>\n",
              "  <tbody>\n",
              "    <tr>\n",
              "      <th>0</th>\n",
              "      <td>1</td>\n",
              "      <td>PAYMENT</td>\n",
              "      <td>9839.639648</td>\n",
              "      <td>C1231006815</td>\n",
              "      <td>170136.0</td>\n",
              "      <td>160296.359375</td>\n",
              "      <td>M1979787155</td>\n",
              "      <td>0.0</td>\n",
              "      <td>0.0</td>\n",
              "      <td>0</td>\n",
              "      <td>0</td>\n",
              "    </tr>\n",
              "    <tr>\n",
              "      <th>1</th>\n",
              "      <td>1</td>\n",
              "      <td>PAYMENT</td>\n",
              "      <td>1864.280029</td>\n",
              "      <td>C1666544295</td>\n",
              "      <td>21249.0</td>\n",
              "      <td>19384.720703</td>\n",
              "      <td>M2044282225</td>\n",
              "      <td>0.0</td>\n",
              "      <td>0.0</td>\n",
              "      <td>0</td>\n",
              "      <td>0</td>\n",
              "    </tr>\n",
              "    <tr>\n",
              "      <th>2</th>\n",
              "      <td>1</td>\n",
              "      <td>TRANSFER</td>\n",
              "      <td>181.000000</td>\n",
              "      <td>C1305486145</td>\n",
              "      <td>181.0</td>\n",
              "      <td>0.000000</td>\n",
              "      <td>C553264065</td>\n",
              "      <td>0.0</td>\n",
              "      <td>0.0</td>\n",
              "      <td>1</td>\n",
              "      <td>0</td>\n",
              "    </tr>\n",
              "    <tr>\n",
              "      <th>3</th>\n",
              "      <td>1</td>\n",
              "      <td>CASH_OUT</td>\n",
              "      <td>181.000000</td>\n",
              "      <td>C840083671</td>\n",
              "      <td>181.0</td>\n",
              "      <td>0.000000</td>\n",
              "      <td>C38997010</td>\n",
              "      <td>21182.0</td>\n",
              "      <td>0.0</td>\n",
              "      <td>1</td>\n",
              "      <td>0</td>\n",
              "    </tr>\n",
              "    <tr>\n",
              "      <th>4</th>\n",
              "      <td>1</td>\n",
              "      <td>PAYMENT</td>\n",
              "      <td>11668.139648</td>\n",
              "      <td>C2048537720</td>\n",
              "      <td>41554.0</td>\n",
              "      <td>29885.859375</td>\n",
              "      <td>M1230701703</td>\n",
              "      <td>0.0</td>\n",
              "      <td>0.0</td>\n",
              "      <td>0</td>\n",
              "      <td>0</td>\n",
              "    </tr>\n",
              "  </tbody>\n",
              "</table>\n",
              "</div>\n",
              "    <div class=\"colab-df-buttons\">\n",
              "\n",
              "  <div class=\"colab-df-container\">\n",
              "    <button class=\"colab-df-convert\" onclick=\"convertToInteractive('df-55b16106-90d1-4fbe-bdc5-303b4e98fb6f')\"\n",
              "            title=\"Convert this dataframe to an interactive table.\"\n",
              "            style=\"display:none;\">\n",
              "\n",
              "  <svg xmlns=\"http://www.w3.org/2000/svg\" height=\"24px\" viewBox=\"0 -960 960 960\">\n",
              "    <path d=\"M120-120v-720h720v720H120Zm60-500h600v-160H180v160Zm220 220h160v-160H400v160Zm0 220h160v-160H400v160ZM180-400h160v-160H180v160Zm440 0h160v-160H620v160ZM180-180h160v-160H180v160Zm440 0h160v-160H620v160Z\"/>\n",
              "  </svg>\n",
              "    </button>\n",
              "\n",
              "  <style>\n",
              "    .colab-df-container {\n",
              "      display:flex;\n",
              "      gap: 12px;\n",
              "    }\n",
              "\n",
              "    .colab-df-convert {\n",
              "      background-color: #E8F0FE;\n",
              "      border: none;\n",
              "      border-radius: 50%;\n",
              "      cursor: pointer;\n",
              "      display: none;\n",
              "      fill: #1967D2;\n",
              "      height: 32px;\n",
              "      padding: 0 0 0 0;\n",
              "      width: 32px;\n",
              "    }\n",
              "\n",
              "    .colab-df-convert:hover {\n",
              "      background-color: #E2EBFA;\n",
              "      box-shadow: 0px 1px 2px rgba(60, 64, 67, 0.3), 0px 1px 3px 1px rgba(60, 64, 67, 0.15);\n",
              "      fill: #174EA6;\n",
              "    }\n",
              "\n",
              "    .colab-df-buttons div {\n",
              "      margin-bottom: 4px;\n",
              "    }\n",
              "\n",
              "    [theme=dark] .colab-df-convert {\n",
              "      background-color: #3B4455;\n",
              "      fill: #D2E3FC;\n",
              "    }\n",
              "\n",
              "    [theme=dark] .colab-df-convert:hover {\n",
              "      background-color: #434B5C;\n",
              "      box-shadow: 0px 1px 3px 1px rgba(0, 0, 0, 0.15);\n",
              "      filter: drop-shadow(0px 1px 2px rgba(0, 0, 0, 0.3));\n",
              "      fill: #FFFFFF;\n",
              "    }\n",
              "  </style>\n",
              "\n",
              "    <script>\n",
              "      const buttonEl =\n",
              "        document.querySelector('#df-55b16106-90d1-4fbe-bdc5-303b4e98fb6f button.colab-df-convert');\n",
              "      buttonEl.style.display =\n",
              "        google.colab.kernel.accessAllowed ? 'block' : 'none';\n",
              "\n",
              "      async function convertToInteractive(key) {\n",
              "        const element = document.querySelector('#df-55b16106-90d1-4fbe-bdc5-303b4e98fb6f');\n",
              "        const dataTable =\n",
              "          await google.colab.kernel.invokeFunction('convertToInteractive',\n",
              "                                                    [key], {});\n",
              "        if (!dataTable) return;\n",
              "\n",
              "        const docLinkHtml = 'Like what you see? Visit the ' +\n",
              "          '<a target=\"_blank\" href=https://colab.research.google.com/notebooks/data_table.ipynb>data table notebook</a>'\n",
              "          + ' to learn more about interactive tables.';\n",
              "        element.innerHTML = '';\n",
              "        dataTable['output_type'] = 'display_data';\n",
              "        await google.colab.output.renderOutput(dataTable, element);\n",
              "        const docLink = document.createElement('div');\n",
              "        docLink.innerHTML = docLinkHtml;\n",
              "        element.appendChild(docLink);\n",
              "      }\n",
              "    </script>\n",
              "  </div>\n",
              "\n",
              "\n",
              "    <div id=\"df-84c28c14-b59d-492b-848e-ea72e0b4b3a1\">\n",
              "      <button class=\"colab-df-quickchart\" onclick=\"quickchart('df-84c28c14-b59d-492b-848e-ea72e0b4b3a1')\"\n",
              "                title=\"Suggest charts\"\n",
              "                style=\"display:none;\">\n",
              "\n",
              "<svg xmlns=\"http://www.w3.org/2000/svg\" height=\"24px\"viewBox=\"0 0 24 24\"\n",
              "     width=\"24px\">\n",
              "    <g>\n",
              "        <path d=\"M19 3H5c-1.1 0-2 .9-2 2v14c0 1.1.9 2 2 2h14c1.1 0 2-.9 2-2V5c0-1.1-.9-2-2-2zM9 17H7v-7h2v7zm4 0h-2V7h2v10zm4 0h-2v-4h2v4z\"/>\n",
              "    </g>\n",
              "</svg>\n",
              "      </button>\n",
              "\n",
              "<style>\n",
              "  .colab-df-quickchart {\n",
              "      --bg-color: #E8F0FE;\n",
              "      --fill-color: #1967D2;\n",
              "      --hover-bg-color: #E2EBFA;\n",
              "      --hover-fill-color: #174EA6;\n",
              "      --disabled-fill-color: #AAA;\n",
              "      --disabled-bg-color: #DDD;\n",
              "  }\n",
              "\n",
              "  [theme=dark] .colab-df-quickchart {\n",
              "      --bg-color: #3B4455;\n",
              "      --fill-color: #D2E3FC;\n",
              "      --hover-bg-color: #434B5C;\n",
              "      --hover-fill-color: #FFFFFF;\n",
              "      --disabled-bg-color: #3B4455;\n",
              "      --disabled-fill-color: #666;\n",
              "  }\n",
              "\n",
              "  .colab-df-quickchart {\n",
              "    background-color: var(--bg-color);\n",
              "    border: none;\n",
              "    border-radius: 50%;\n",
              "    cursor: pointer;\n",
              "    display: none;\n",
              "    fill: var(--fill-color);\n",
              "    height: 32px;\n",
              "    padding: 0;\n",
              "    width: 32px;\n",
              "  }\n",
              "\n",
              "  .colab-df-quickchart:hover {\n",
              "    background-color: var(--hover-bg-color);\n",
              "    box-shadow: 0 1px 2px rgba(60, 64, 67, 0.3), 0 1px 3px 1px rgba(60, 64, 67, 0.15);\n",
              "    fill: var(--button-hover-fill-color);\n",
              "  }\n",
              "\n",
              "  .colab-df-quickchart-complete:disabled,\n",
              "  .colab-df-quickchart-complete:disabled:hover {\n",
              "    background-color: var(--disabled-bg-color);\n",
              "    fill: var(--disabled-fill-color);\n",
              "    box-shadow: none;\n",
              "  }\n",
              "\n",
              "  .colab-df-spinner {\n",
              "    border: 2px solid var(--fill-color);\n",
              "    border-color: transparent;\n",
              "    border-bottom-color: var(--fill-color);\n",
              "    animation:\n",
              "      spin 1s steps(1) infinite;\n",
              "  }\n",
              "\n",
              "  @keyframes spin {\n",
              "    0% {\n",
              "      border-color: transparent;\n",
              "      border-bottom-color: var(--fill-color);\n",
              "      border-left-color: var(--fill-color);\n",
              "    }\n",
              "    20% {\n",
              "      border-color: transparent;\n",
              "      border-left-color: var(--fill-color);\n",
              "      border-top-color: var(--fill-color);\n",
              "    }\n",
              "    30% {\n",
              "      border-color: transparent;\n",
              "      border-left-color: var(--fill-color);\n",
              "      border-top-color: var(--fill-color);\n",
              "      border-right-color: var(--fill-color);\n",
              "    }\n",
              "    40% {\n",
              "      border-color: transparent;\n",
              "      border-right-color: var(--fill-color);\n",
              "      border-top-color: var(--fill-color);\n",
              "    }\n",
              "    60% {\n",
              "      border-color: transparent;\n",
              "      border-right-color: var(--fill-color);\n",
              "    }\n",
              "    80% {\n",
              "      border-color: transparent;\n",
              "      border-right-color: var(--fill-color);\n",
              "      border-bottom-color: var(--fill-color);\n",
              "    }\n",
              "    90% {\n",
              "      border-color: transparent;\n",
              "      border-bottom-color: var(--fill-color);\n",
              "    }\n",
              "  }\n",
              "</style>\n",
              "\n",
              "      <script>\n",
              "        async function quickchart(key) {\n",
              "          const quickchartButtonEl =\n",
              "            document.querySelector('#' + key + ' button');\n",
              "          quickchartButtonEl.disabled = true;  // To prevent multiple clicks.\n",
              "          quickchartButtonEl.classList.add('colab-df-spinner');\n",
              "          try {\n",
              "            const charts = await google.colab.kernel.invokeFunction(\n",
              "                'suggestCharts', [key], {});\n",
              "          } catch (error) {\n",
              "            console.error('Error during call to suggestCharts:', error);\n",
              "          }\n",
              "          quickchartButtonEl.classList.remove('colab-df-spinner');\n",
              "          quickchartButtonEl.classList.add('colab-df-quickchart-complete');\n",
              "        }\n",
              "        (() => {\n",
              "          let quickchartButtonEl =\n",
              "            document.querySelector('#df-84c28c14-b59d-492b-848e-ea72e0b4b3a1 button');\n",
              "          quickchartButtonEl.style.display =\n",
              "            google.colab.kernel.accessAllowed ? 'block' : 'none';\n",
              "        })();\n",
              "      </script>\n",
              "    </div>\n",
              "\n",
              "    </div>\n",
              "  </div>\n"
            ],
            "application/vnd.google.colaboratory.intrinsic+json": {
              "type": "dataframe",
              "variable_name": "df"
            }
          },
          "metadata": {},
          "execution_count": 7
        }
      ],
      "source": [
        "\n",
        "# Helper: dtype map to reduce memory\n",
        "DTYPES = {\n",
        "    \"step\": \"int16\",\n",
        "    \"type\": \"category\",\n",
        "    \"amount\": \"float32\",\n",
        "    \"nameOrig\": \"category\",\n",
        "    \"oldbalanceOrg\": \"float32\",\n",
        "    \"newbalanceOrig\": \"float32\",\n",
        "    \"nameDest\": \"category\",\n",
        "    \"oldbalanceDest\": \"float32\",\n",
        "    \"newbalanceDest\": \"float32\",\n",
        "    \"isFraud\": \"int8\",\n",
        "    \"isFlaggedFraud\": \"int8\",\n",
        "}\n",
        "\n",
        "USECOLS = list(DTYPES.keys())\n",
        "\n",
        "def load_data(csv_path, use_chunks=False, chunksize=500_000, sample_frac=0.25):\n",
        "    if not use_chunks:\n",
        "        df = pd.read_csv(csv_path, usecols=USECOLS, dtype=DTYPES)\n",
        "        return df\n",
        "    else:\n",
        "        parts = []\n",
        "        for i, chunk in enumerate(pd.read_csv(csv_path, usecols=USECOLS, dtype=DTYPES, chunksize=chunksize)):\n",
        "            if sample_frac and 0 < sample_frac < 1.0:\n",
        "                parts.append(chunk.sample(frac=sample_frac, random_state=42))\n",
        "            else:\n",
        "                parts.append(chunk)\n",
        "            print(f\"Read chunk {i+1}, rows collected so far: {sum(len(p) for p in parts):,}\")\n",
        "        df = pd.concat(parts, ignore_index=True)\n",
        "        return df\n",
        "\n",
        "# === Load ===\n",
        "assert Path(CSV_PATH).exists(), f\"CSV not found at {CSV_PATH}. Update CSV_PATH above.\"\n",
        "df = load_data(CSV_PATH, use_chunks=USE_CHUNKS, chunksize=CHUNKSIZE, sample_frac=SAMPLE_FRAC)\n",
        "print(df.shape)\n",
        "df.head()"
      ]
    },
    {
      "cell_type": "markdown",
      "id": "1b6763ee",
      "metadata": {
        "id": "1b6763ee"
      },
      "source": [
        "\n",
        "## 3) Exploratory Data Analysis (EDA)\n",
        "Key checks:\n",
        "- Class imbalance (`isFraud` rate).\n",
        "- Transaction types distribution.\n",
        "- Amount distribution & outliers (use log‑scale).\n",
        "- Balance consistency checks.\n"
      ]
    },
    {
      "cell_type": "code",
      "execution_count": 8,
      "id": "6191f25f",
      "metadata": {
        "colab": {
          "base_uri": "https://localhost:8080/",
          "height": 1000
        },
        "id": "6191f25f",
        "outputId": "be433587-94e4-4a83-8425-5cec66357af7"
      },
      "outputs": [
        {
          "output_type": "stream",
          "name": "stdout",
          "text": [
            "Fraud rate: 0.00129 ( 0.129% )\n",
            "\n",
            "Transaction type share:\n",
            " type\n",
            "CASH_OUT    0.351663\n",
            "PAYMENT     0.338146\n",
            "CASH_IN     0.219923\n",
            "TRANSFER    0.083756\n",
            "DEBIT       0.006512\n",
            "Name: proportion, dtype: float64\n"
          ]
        },
        {
          "output_type": "display_data",
          "data": {
            "text/plain": [
              "<Figure size 640x480 with 1 Axes>"
            ],
            "image/png": "[encoded data removed]"
          },
          "metadata": {}
        },
        {
          "output_type": "stream",
          "name": "stdout",
          "text": [
            "\n",
            "orig_error stats: count    6.362620e+06\n",
            "mean    -2.010926e+05\n",
            "std      6.001532e+05\n",
            "min     -9.244552e+07\n",
            "25%     -2.496411e+05\n",
            "50%     -6.867725e+04\n",
            "75%     -2.954197e+03\n",
            "max      4.000000e+00\n",
            "Name: orig_error, dtype: float64\n",
            "dest_error stats: count    6.362620e+06\n",
            "mean     5.556721e+04\n",
            "std      4.388230e+05\n",
            "min     -7.588572e+07\n",
            "25%      0.000000e+00\n",
            "50%      3.500490e+03\n",
            "75%      2.935302e+04\n",
            "max      1.319123e+07\n",
            "Name: dest_error, dtype: float64\n",
            "\n",
            "Rows with any missing dest balance fields: 0\n"
          ]
        }
      ],
      "source": [
        "\n",
        "# Fraud rate\n",
        "fraud_rate = df['isFraud'].mean()\n",
        "print(f\"Fraud rate: {fraud_rate:.5f} ( {fraud_rate*100:.3f}% )\")\n",
        "\n",
        "# Type distribution\n",
        "type_counts = df['type'].value_counts(normalize=True).sort_values(ascending=False)\n",
        "print(\"\\nTransaction type share:\\n\", type_counts)\n",
        "\n",
        "# Plot: Amount distribution (log scale)\n",
        "plt.figure()\n",
        "df['amount'].clip(upper=df['amount'].quantile(0.999)).hist(bins=100)\n",
        "plt.yscale('linear')\n",
        "plt.xscale('log')\n",
        "plt.title('Amount Distribution (clipped at 99.9%, log x-axis)')\n",
        "plt.xlabel('amount (log)')\n",
        "plt.ylabel('count')\n",
        "plt.show()\n",
        "\n",
        "# Basic balance consistency\n",
        "df['orig_error'] = df['oldbalanceOrg'] - df['amount'] - df['newbalanceOrig']\n",
        "df['dest_error'] = df['oldbalanceDest'] + df['amount'] - df['newbalanceDest']\n",
        "print(\"\\norig_error stats:\", df['orig_error'].describe())\n",
        "print(\"dest_error stats:\", df['dest_error'].describe())\n",
        "\n",
        "# Flag merchant destination accounts\n",
        "df['isMerchantDest'] = df['nameDest'].astype(str).str.startswith('M').astype('int8')\n",
        "\n",
        "# Missing dest balances for merchants — count\n",
        "missing_dest = df[['oldbalanceDest','newbalanceDest']].isna().any(axis=1).sum()\n",
        "print(f\"\\nRows with any missing dest balance fields: {missing_dest:,}\")"
      ]
    },
    {
      "cell_type": "markdown",
      "id": "32520637",
      "metadata": {
        "id": "32520637"
      },
      "source": [
        "\n",
        "## 4) Data Cleaning\n",
        "- **Missing values**: For merchant destinations (`nameDest` starts with `M`), set `oldbalanceDest`/`newbalanceDest` to 0 if missing.\n",
        "- **Outliers**: Clip `amount` at 99.9% (only on **train** after split to avoid leakage).\n",
        "- **Multicollinearity**: We keep both balances and derived errors; linear models are regularized, trees handle correlation well.\n"
      ]
    },
    {
      "cell_type": "code",
      "execution_count": 9,
      "id": "8ca5a422",
      "metadata": {
        "colab": {
          "base_uri": "https://localhost:8080/"
        },
        "id": "8ca5a422",
        "outputId": "5bbf25aa-013f-410b-aebb-8d69eaa7326b"
      },
      "outputs": [
        {
          "output_type": "stream",
          "name": "stdout",
          "text": [
            "✅ Cleaning done. Current columns: ['step', 'type', 'amount', 'oldbalanceOrg', 'newbalanceOrig', 'oldbalanceDest', 'newbalanceDest', 'isFraud', 'isFlaggedFraud', 'orig_error', 'dest_error', 'isMerchantDest']\n"
          ]
        }
      ],
      "source": [
        "\n",
        "# Fill missing destination balances for merchant accounts\n",
        "is_merch = df['isMerchantDest'] == 1\n",
        "for col in ['oldbalanceDest','newbalanceDest']:\n",
        "    if col in df.columns:\n",
        "        df.loc[is_merch & df[col].isna(), col] = 0.0\n",
        "\n",
        "# Recompute errors after filling\n",
        "df['orig_error'] = df['oldbalanceOrg'] - df['amount'] - df['newbalanceOrig']\n",
        "df['dest_error'] = df['oldbalanceDest'] + df['amount'] - df['newbalanceDest']\n",
        "\n",
        "# Ensure categorical dtype\n",
        "df['type'] = df['type'].astype('category')\n",
        "\n",
        "# Drop high‑cardinality IDs (leakage/noise)\n",
        "df = df.drop(columns=['nameOrig','nameDest'])\n",
        "\n",
        "print(\"✅ Cleaning done. Current columns:\", df.columns.tolist())"
      ]
    },
    {
      "cell_type": "markdown",
      "id": "c13eeee1",
      "metadata": {
        "id": "c13eeee1"
      },
      "source": [
        "\n",
        "## 5) Train/Validation Split (time‑aware)\n",
        "To reduce leakage, we split by **time `step`**: first ~80% steps for training, last ~20% for validation.\n"
      ]
    },
    {
      "cell_type": "code",
      "execution_count": 10,
      "id": "e4905c45",
      "metadata": {
        "colab": {
          "base_uri": "https://localhost:8080/"
        },
        "id": "e4905c45",
        "outputId": "21c4c3a9-5362-4ffe-f1ef-19386570e40f"
      },
      "outputs": [
        {
          "output_type": "stream",
          "name": "stdout",
          "text": [
            "Train steps <= 355 → (5113884, 12) | Valid steps > 355 → (1248736, 12)\n",
            "Numeric features: ['amount', 'dest_error', 'isFlaggedFraud', 'isMerchantDest', 'newbalanceDest', 'newbalanceOrig', 'oldbalanceDest', 'oldbalanceOrg', 'orig_error', 'step']\n",
            "Categorical features: ['type']\n"
          ]
        }
      ],
      "source": [
        "\n",
        "# Determine time threshold (80th percentile of step)\n",
        "step_threshold = int(np.percentile(df['step'], 80))\n",
        "train_mask = df['step'] <= step_threshold\n",
        "valid_mask = df['step'] > step_threshold\n",
        "\n",
        "train = df.loc[train_mask].copy()\n",
        "valid = df.loc[valid_mask].copy()\n",
        "\n",
        "print(f\"Train steps <= {step_threshold} → {train.shape} | Valid steps > {step_threshold} → {valid.shape}\")\n",
        "\n",
        "# Define features & target\n",
        "TARGET = 'isFraud'\n",
        "FEATURES_CAT = ['type']\n",
        "FEATURES_NUM = [c for c in df.columns if c not in FEATURES_CAT + [TARGET, 'isFlaggedFraud']]  # keep isFlaggedFraud as feature? often yes/no\n",
        "# Optionally include isFlaggedFraud as a feature:\n",
        "FEATURES_NUM.append('isFlaggedFraud')\n",
        "FEATURES_NUM = sorted(list(set(FEATURES_NUM)))\n",
        "\n",
        "X_train, y_train = train[FEATURES_CAT + FEATURES_NUM], train[TARGET]\n",
        "X_valid, y_valid = valid[FEATURES_CAT + FEATURES_NUM], valid[TARGET]\n",
        "\n",
        "print(\"Numeric features:\", FEATURES_NUM)\n",
        "print(\"Categorical features:\", FEATURES_CAT)"
      ]
    },
    {
      "cell_type": "markdown",
      "id": "5bba33e9",
      "metadata": {
        "id": "5bba33e9"
      },
      "source": [
        "\n",
        "## 6) Baseline Model — Logistic Regression (interpretable)\n",
        "- **Preprocessing**: One‑hot for `type`, standardize numeric.\n",
        "- **Class weight**: `'balanced'` to handle imbalance.\n"
      ]
    },
    {
      "cell_type": "code",
      "execution_count": 11,
      "id": "9c1ed51f",
      "metadata": {
        "colab": {
          "base_uri": "https://localhost:8080/",
          "height": 1000
        },
        "id": "9c1ed51f",
        "outputId": "49597f1d-3da0-49bc-bd3d-edfd66e7c82d"
      },
      "outputs": [
        {
          "output_type": "stream",
          "name": "stdout",
          "text": [
            "ROC-AUC: 0.9890 | PR-AUC: 0.6841\n",
            "\n",
            "              precision    recall  f1-score   support\n",
            "\n",
            "           0     0.9996    0.9767    0.9881   1244486\n",
            "           1     0.1163    0.8960    0.2058      4250\n",
            "\n",
            "    accuracy                         0.9765   1248736\n",
            "   macro avg     0.5579    0.9364    0.5969   1248736\n",
            "weighted avg     0.9966    0.9765    0.9854   1248736\n",
            "\n",
            "Confusion Matrix:\n",
            " [[1215540   28946]\n",
            " [    442    3808]]\n"
          ]
        },
        {
          "output_type": "display_data",
          "data": {
            "text/plain": [
              "<Figure size 640x480 with 1 Axes>"
            ],
            "image/png": "[encoded data removed]"
          },
          "metadata": {}
        },
        {
          "output_type": "display_data",
          "data": {
            "text/plain": [
              "<Figure size 640x480 with 1 Axes>"
            ],
            "image/png": "[encoded data removed]"
          },
          "metadata": {}
        }
      ],
      "source": [
        "\n",
        "numeric = FEATURES_NUM\n",
        "categorical = FEATURES_CAT\n",
        "\n",
        "preprocess = ColumnTransformer(\n",
        "    transformers=[\n",
        "        ('num', StandardScaler(with_mean=False), numeric),\n",
        "        ('cat', OneHotEncoder(handle_unknown='ignore'), categorical)\n",
        "    ],\n",
        "    remainder='drop'\n",
        ")\n",
        "\n",
        "logreg = LogisticRegression(\n",
        "    max_iter=200,\n",
        "    class_weight='balanced',\n",
        "    n_jobs=None,\n",
        "    solver='liblinear'\n",
        ")\n",
        "\n",
        "pipe_lr = Pipeline(steps=[('prep', preprocess), ('clf', logreg)])\n",
        "pipe_lr.fit(X_train, y_train)\n",
        "\n",
        "# Predictions & metrics\n",
        "proba_lr = pipe_lr.predict_proba(X_valid)[:, 1]\n",
        "pred_lr = (proba_lr >= 0.5).astype(int)\n",
        "\n",
        "roc_auc_lr = roc_auc_score(y_valid, proba_lr)\n",
        "ap_lr = average_precision_score(y_valid, proba_lr)\n",
        "\n",
        "print(f\"ROC-AUC: {roc_auc_lr:.4f} | PR-AUC: {ap_lr:.4f}\\n\")\n",
        "print(classification_report(y_valid, pred_lr, digits=4))\n",
        "\n",
        "# Confusion matrix\n",
        "cm = confusion_matrix(y_valid, pred_lr)\n",
        "print(\"Confusion Matrix:\\n\", cm)\n",
        "\n",
        "# ROC curve\n",
        "fpr, tpr, _ = roc_curve(y_valid, proba_lr)\n",
        "plt.figure()\n",
        "plt.plot(fpr, tpr, label='LogReg')\n",
        "plt.plot([0,1],[0,1],'--')\n",
        "plt.xlabel('False Positive Rate')\n",
        "plt.ylabel('True Positive Rate')\n",
        "plt.title('ROC Curve — Logistic Regression')\n",
        "plt.legend()\n",
        "plt.show()\n",
        "\n",
        "# PR curve\n",
        "prec, rec, thr = precision_recall_curve(y_valid, proba_lr)\n",
        "plt.figure()\n",
        "plt.plot(rec, prec, label='LogReg')\n",
        "plt.xlabel('Recall')\n",
        "plt.ylabel('Precision')\n",
        "plt.title('Precision-Recall Curve — Logistic Regression')\n",
        "plt.legend()\n",
        "plt.show()"
      ]
    },
    {
      "cell_type": "markdown",
      "id": "5af3b871",
      "metadata": {
        "id": "5af3b871"
      },
      "source": [
        "## 7) Advanced Model — LightGBM (Fast Gradient Boosting)\n",
        "\n",
        "- LightGBM is optimized for **large tabular datasets** and is usually **faster + more accurate** than Random Forest.  \n",
        "- Handles **imbalanced data** with `class_weight='balanced'`.  \n",
        "- Provides **built-in feature importances** (faster than permutation importance).  \n",
        "- Useful for fraud detection where recall and PR-AUC are critical.  \n"
      ]
    },
    {
      "cell_type": "code",
      "execution_count": 15,
      "id": "7a5b63ca",
      "metadata": {
        "colab": {
          "base_uri": "https://localhost:8080/",
          "height": 1000
        },
        "id": "7a5b63ca",
        "outputId": "b83ddc7e-e6ff-44e0-b41f-1d35a1751b55"
      },
      "outputs": [
        {
          "output_type": "stream",
          "name": "stdout",
          "text": [
            "Requirement already satisfied: lightgbm in /usr/local/lib/python3.11/dist-packages (4.6.0)\n",
            "Requirement already satisfied: numpy>=1.17.0 in /usr/local/lib/python3.11/dist-packages (from lightgbm) (2.0.2)\n",
            "Requirement already satisfied: scipy in /usr/local/lib/python3.11/dist-packages (from lightgbm) (1.16.1)\n",
            "[LightGBM] [Info] Number of positive: 3963, number of negative: 5109921\n",
            "[LightGBM] [Info] Auto-choosing row-wise multi-threading, the overhead of testing was 0.102636 seconds.\n",
            "You can set `force_row_wise=true` to remove the overhead.\n",
            "And if memory is not enough, you can set `force_col_wise=true`.\n",
            "[LightGBM] [Info] Total Bins 1999\n",
            "[LightGBM] [Info] Number of data points in the train set: 5113884, number of used features: 14\n",
            "[LightGBM] [Info] [binary:BoostFromScore]: pavg=0.500000 -> initscore=-0.000000\n",
            "[LightGBM] [Info] Start training from score -0.000000\n",
            "ROC-AUC: 1.0000 | PR-AUC: 1.0000\n",
            "\n",
            "              precision    recall  f1-score   support\n",
            "\n",
            "           0     1.0000    1.0000    1.0000   1244486\n",
            "           1     1.0000    0.9995    0.9998      4250\n",
            "\n",
            "    accuracy                         1.0000   1248736\n",
            "   macro avg     1.0000    0.9998    0.9999   1248736\n",
            "weighted avg     1.0000    1.0000    1.0000   1248736\n",
            "\n",
            "Confusion Matrix:\n",
            " [[1244486       0]\n",
            " [      2    4248]]\n"
          ]
        },
        {
          "output_type": "display_data",
          "data": {
            "text/plain": [
              "<Figure size 640x480 with 1 Axes>"
            ],
            "image/png": "[encoded data removed]"
          },
          "metadata": {}
        },
        {
          "output_type": "stream",
          "name": "stdout",
          "text": [
            "\n",
            "Top 25 features by importance:\n",
            "            feature  importance\n",
            "9             step        2795\n",
            "4   newbalanceDest        2363\n",
            "8       orig_error        2176\n",
            "6   oldbalanceDest        2019\n",
            "0           amount        1988\n",
            "1       dest_error        1293\n",
            "7    oldbalanceOrg        1147\n",
            "5   newbalanceOrig         608\n",
            "14   type_TRANSFER         258\n",
            "11   type_CASH_OUT         154\n",
            "3   isMerchantDest         108\n",
            "10    type_CASH_IN          50\n",
            "13    type_PAYMENT          23\n",
            "12      type_DEBIT          18\n",
            "2   isFlaggedFraud           0\n"
          ]
        }
      ],
      "source": [
        "!pip install lightgbm\n",
        "from lightgbm import LGBMClassifier\n",
        "\n",
        "# Fast gradient boosting model\n",
        "lgb = LGBMClassifier(\n",
        "    n_estimators=500,       # number of boosting rounds\n",
        "    max_depth=-1,           # no limit, trees grow until optimal\n",
        "    learning_rate=0.05,     # smaller = better accuracy, slower training\n",
        "    class_weight='balanced',# handle imbalance\n",
        "    subsample=0.8,          # row sampling\n",
        "    colsample_bytree=0.8,   # feature sampling\n",
        "    n_jobs=-1,\n",
        "    random_state=42\n",
        ")\n",
        "\n",
        "pipe_lgb = Pipeline(steps=[('prep', preprocess), ('clf', lgb)])\n",
        "pipe_lgb.fit(X_train, y_train)\n",
        "\n",
        "# Predictions & metrics\n",
        "proba_lgb = pipe_lgb.predict_proba(X_valid)[:, 1]\n",
        "pred_lgb = (proba_lgb >= 0.5).astype(int)\n",
        "\n",
        "roc_auc_lgb = roc_auc_score(y_valid, proba_lgb)\n",
        "ap_lgb = average_precision_score(y_valid, proba_lgb)\n",
        "\n",
        "print(f\"ROC-AUC: {roc_auc_lgb:.4f} | PR-AUC: {ap_lgb:.4f}\\n\")\n",
        "print(classification_report(y_valid, pred_lgb, digits=4))\n",
        "\n",
        "cm = confusion_matrix(y_valid, pred_lgb)\n",
        "print(\"Confusion Matrix:\\n\", cm)\n",
        "\n",
        "# PR Curve\n",
        "prec_lgb, rec_lgb, thr_lgb = precision_recall_curve(y_valid, proba_lgb)\n",
        "plt.figure()\n",
        "plt.plot(rec_lgb, prec_lgb, label='LightGBM')\n",
        "plt.xlabel('Recall')\n",
        "plt.ylabel('Precision')\n",
        "plt.title('Precision-Recall Curve — LightGBM')\n",
        "plt.legend()\n",
        "plt.show()\n",
        "\n",
        "# Feature importance (built-in, much faster than permutation importance)\n",
        "ohe = pipe_lgb.named_steps['prep'].named_transformers_['cat']\n",
        "ohe_names = list(ohe.get_feature_names_out(categorical))\n",
        "feature_names = numeric + ohe_names\n",
        "\n",
        "importances = pipe_lgb.named_steps['clf'].feature_importances_\n",
        "imp_df = pd.DataFrame({\n",
        "    'feature': feature_names,\n",
        "    'importance': importances\n",
        "}).sort_values('importance', ascending=False).head(25)\n",
        "\n",
        "print(\"\\nTop 25 features by importance:\\n\", imp_df)\n"
      ]
    },
    {
      "cell_type": "markdown",
      "id": "86376c89",
      "metadata": {
        "id": "86376c89"
      },
      "source": [
        "\n",
        "##  8) Decision Threshold Tuning — LightGBM\n",
        "\n",
        "Pick a threshold to meet business goals (e.g., **Precision ≥ 90%** or **Recall ≥ 80%**).\n"
      ]
    },
    {
      "cell_type": "code",
      "execution_count": 22,
      "id": "01561d43",
      "metadata": {
        "colab": {
          "base_uri": "https://localhost:8080/"
        },
        "id": "01561d43",
        "outputId": "87a4790b-125f-4aa7-ffdf-05ba209cd757"
      },
      "outputs": [
        {
          "output_type": "stream",
          "name": "stdout",
          "text": [
            "Chosen threshold: 0.0000 → Precision=0.900, Recall=1.000\n",
            "              precision    recall  f1-score   support\n",
            "\n",
            "           0     1.0000    0.9996    0.9998   1244486\n",
            "           1     0.9000    0.9998    0.9473      4250\n",
            "\n",
            "    accuracy                         0.9996   1248736\n",
            "   macro avg     0.9500    0.9997    0.9735   1248736\n",
            "weighted avg     0.9997    0.9996    0.9996   1248736\n",
            "\n",
            "Confusion Matrix:\n",
            " [[1244014     472]\n",
            " [      1    4249]]\n"
          ]
        }
      ],
      "source": [
        "def choose_threshold_for_precision(y_true, proba, target_precision=0.9):\n",
        "    prec, rec, thr = precision_recall_curve(y_true, proba)\n",
        "    candidates = [(p, r, t) for p, r, t in zip(prec[:-1], rec[:-1], thr)]\n",
        "    for p, r, t in candidates:\n",
        "        if p >= target_precision:\n",
        "            return t, p, r\n",
        "    # fallback: best F1\n",
        "    f1s = [2*p*r/(p+r+1e-12) for p,r,_ in candidates]\n",
        "    best_idx = int(np.argmax(f1s))\n",
        "    p, r, t = candidates[best_idx]\n",
        "    return t, p, r\n",
        "\n",
        "threshold, p_at_t, r_at_t = choose_threshold_for_precision(\n",
        "    y_valid, proba_lgb, target_precision=0.90\n",
        ")\n",
        "\n",
        "print(f\"Chosen threshold: {threshold:.4f} → Precision={p_at_t:.3f}, Recall={r_at_t:.3f}\")\n",
        "\n",
        "pred_tuned = (proba_lgb >= threshold).astype(int)\n",
        "print(classification_report(y_valid, pred_tuned, digits=4))\n",
        "print(\"Confusion Matrix:\\n\", confusion_matrix(y_valid, pred_tuned))"
      ]
    },
    {
      "cell_type": "markdown",
      "id": "2ff79d8a",
      "metadata": {
        "id": "2ff79d8a"
      },
      "source": [
        "## 9) Insights → Action Plan\n",
        "- **High-risk transaction types** (e.g., `TRANSFER`, `CASH-OUT`) dominate positive predictions.  \n",
        "- **Large amounts** and **balance inconsistencies** (`orig_error`, `dest_error`) raise fraud risk.  \n",
        "- **Merchant destinations** show systematic missing balances — treat with stricter verification.  \n",
        "- **Rule engine + ML combo** works best: keep `isFlaggedFraud` rule but let ML model learn additional patterns.  \n",
        "- Deploy a **decision threshold** aligned to business cost (false negatives are far more costly than false positives).  \n"
      ]
    },
    {
      "cell_type": "markdown",
      "id": "e424928c",
      "metadata": {
        "id": "e424928c"
      },
      "source": [
        "\n",
        "\n",
        "1.   List item\n",
        "2.   List item\n",
        "\n",
        "\n",
        "## 10) Save Artifacts (Model + Threshold)\n"
      ]
    },
    {
      "cell_type": "code",
      "execution_count": 23,
      "id": "a0e4cceb",
      "metadata": {
        "colab": {
          "base_uri": "https://localhost:8080/"
        },
        "id": "a0e4cceb",
        "outputId": "07297fcc-d374-4bb0-bfe4-6a6386f7ed24"
      },
      "outputs": [
        {
          "output_type": "stream",
          "name": "stdout",
          "text": [
            "Saved: /mnt/data/fraud_outputs/fraud_model_pipeline.joblib\n"
          ]
        }
      ],
      "source": [
        "# =======================================================\n",
        "# 10) Save Artifacts (LightGBM Model + Threshold)\n",
        "# =======================================================\n",
        "joblib.dump(\n",
        "    {\n",
        "        'model': pipe_lgb,\n",
        "        'threshold': float(threshold),\n",
        "        'features_cat': categorical,\n",
        "        'features_num': numeric\n",
        "    },\n",
        "    f\"{OUT_DIR}/{MODEL_NAME}\"\n",
        ")\n",
        "print(f\"Saved: {OUT_DIR}/{MODEL_NAME}\")\n"
      ]
    },
    {
      "cell_type": "markdown",
      "id": "cd4469bc",
      "metadata": {
        "id": "cd4469bc"
      },
      "source": [
        "\n",
        "\n",
        "```\n",
        "# This is formatted as code\n",
        "```\n",
        "\n",
        "\n",
        "## 11) Inference Example (single row)\n",
        "Provide a dict with the required columns and get a fraud probability + label (using tuned threshold).\n"
      ]
    },
    {
      "cell_type": "code",
      "execution_count": 24,
      "id": "a0e0a3ca",
      "metadata": {
        "colab": {
          "base_uri": "https://localhost:8080/"
        },
        "id": "a0e0a3ca",
        "outputId": "cc17cf86-2734-4424-b4fa-ddb97b6e8060"
      },
      "outputs": [
        {
          "output_type": "stream",
          "name": "stdout",
          "text": [
            "Fraud probability: 0.000 → predicted label: 0\n"
          ]
        }
      ],
      "source": [
        "# =======================================================\n",
        "# 11) Inference Example (single row)\n",
        "# =======================================================\n",
        "def predict_one(model_bundle, row_dict):\n",
        "    model = model_bundle['model']\n",
        "    thr = model_bundle['threshold']\n",
        "    # Build DataFrame with expected raw features\n",
        "    X = pd.DataFrame([row_dict])[model_bundle['features_cat'] + model_bundle['features_num']]\n",
        "    proba = model.predict_proba(X)[:,1][0]\n",
        "    label = int(proba >= thr)\n",
        "    return proba, label\n",
        "\n",
        "bundle = joblib.load(f\"{OUT_DIR}/{MODEL_NAME}\")\n",
        "\n",
        "example = {\n",
        "    'step': 700,\n",
        "    'type': 'TRANSFER',\n",
        "    'amount': 250000.0,\n",
        "    'oldbalanceOrg': 300000.0,\n",
        "    'newbalanceOrig': 50000.0,\n",
        "    'oldbalanceDest': 10000.0,\n",
        "    'newbalanceDest': 260000.0,\n",
        "    'isFlaggedFraud': 1,\n",
        "    'orig_error': 0.0,\n",
        "    'dest_error': -15000.0,\n",
        "    'isMerchantDest': 0\n",
        "}\n",
        "\n",
        "proba, label = predict_one(bundle, example)\n",
        "print(f\"Fraud probability: {proba:.3f} → predicted label: {label}\")\n"
      ]
    },
    {
      "cell_type": "markdown",
      "id": "eb09d278",
      "metadata": {
        "id": "eb09d278"
      },
      "source": [
        "## 12) Appendix\n",
        "\n",
        "- Fraud is highly imbalanced → use `class_weight='balanced'` or `scale_pos_weight` in LightGBM.  \n",
        "- Default 0.5 cutoff is ineffective → tune threshold for desired Precision/Recall.  \n",
        "- LightGBM is faster & more accurate for large fraud data than Random Forest.  \n",
        "- Key signals: `TRANSFER` / `CASH-OUT`, high amounts, balance errors, merchant accounts.  \n",
        "- Combine rules + ML, retrain regularly, and monitor drift as fraud tactics evolve.  \n"
      ]
    }
  ],
  "metadata": {
    "colab": {
      "provenance": [],
      "include_colab_link": true
    },
    "language_info": {
      "name": "python"
    },
    "kernelspec": {
      "name": "python3",
      "display_name": "Python 3"
    }
  },
  "nbformat": 4,
  "nbformat_minor": 5
}